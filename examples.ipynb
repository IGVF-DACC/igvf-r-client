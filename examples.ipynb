{
 "cells": [
  {
   "cell_type": "code",
   "execution_count": 1,
   "id": "d227b23f-e8e9-443b-b100-b87c48cf4203",
   "metadata": {},
   "outputs": [],
   "source": [
    "library(igvfclient)"
   ]
  },
  {
   "cell_type": "code",
   "execution_count": 2,
   "id": "6f6c8724-30bc-4f56-b00b-25cc7a6e0ec2",
   "metadata": {},
   "outputs": [],
   "source": [
    "api <- IgvfApi$new()"
   ]
  },
  {
   "cell_type": "code",
   "execution_count": 3,
   "id": "66108f87-4c2a-4b49-be3f-a311fffa013a",
   "metadata": {},
   "outputs": [],
   "source": [
    "results <- api$Search(query='abc', frame='object')"
   ]
  },
  {
   "cell_type": "code",
   "execution_count": 4,
   "id": "e725e78d-a5d5-484d-9eab-b17451265082",
   "metadata": {},
   "outputs": [
    {
     "data": {
      "text/plain": [
       "{\n",
       "    \"@graph\": [\n",
       "        {\n",
       "            \"release_timestamp\": \"2023-03-14T00:12:36.014029+00:00\",\n",
       "            \"lab\": \"/labs/jesse-engreitz/\",\n",
       "            \"award\": \"/awards/HG011972/\",\n",
       "            \"status\": \"released\",\n",
       "            \"schema_version\": \"6\",\n",
       "            \"uuid\": \"f37503db-d59c-455d-99f0-7065c9afadfb\",\n",
       "            \"creation_timestamp\": \"2023-03-13T23:29:35.927480+00:00\",\n",
       "            \"submitted_by\": \"/users/05f44ea6-5f00-440c-99e3-6b54f5792028/\",\n",
       "            \"description\": \"Target gene prediction (element)\",\n",
       "            \"name\": \"abc\",\n",
       "            \"title\": \"ABC\",\n",
       "            \"source_url\": \"https://github.com/broadinstitute/ABC-Enhancer-Gene-Prediction\",\n",
       "            \"@id\": \"/software/abc/\",\n",
       "            \"@type\": [\n",
       "                [\n",
       "                    \"Software\",\n",
       "                    \"Item\"\n",
       "                ]\n",
       "            ],\n",
       "            \"summary\": \"ABC\",\n",
       "            \"versions\": [\n",
       "                [\n",
       "\n",
       "                ]\n",
       "            ]\n",
       "        },\n",
       "        {\n",
       "            \"release_timestamp\": \"2023-03-24T21:03:35.057521+00:00\",\n",
       "            \"status\": \"released\",\n",
       "            \"url\": \"http://www.abcam.com\",\n",
       "            \"schema_version\": \"4\",\n",
       "            \"uuid\": \"b10f3c4b-d525-4e86-b1f6-a169e1ec5774\",\n",
       "            \"creation_timestamp\": \"2023-03-24T21:03:35.060832+00:00\",\n",
       "            \"submitted_by\": \"/users/5e3038c4-baa5-4589-b3d8-ad2fe634e826/\",\n",
       "            \"description\": \"Abcam\",\n",
       "            \"title\": \"Abcam\",\n",
       "            \"name\": \"abcam\",\n",
       "            \"@id\": \"/sources/abcam/\",\n",
       "            \"@type\": [\n",
       "                [\n",
       "                    \"Source\",\n",
       "                    \"Item\"\n",
       "                ]\n",
       "            ],\n",
       "            \"summary\": \"Abcam\"\n",
       "        },\n",
       "        {\n",
       "            \"release_timestamp\": \"2023-03-24T21:03:35.493152+00:00\",\n",
       "            \"status\": \"released\",\n",
       "            \"url\": \"http://www.abclonal.com/\",\n",
       "            \"schema_version\": \"4\",\n",
       "            \"uuid\": \"3ff58555-6c26-483c-930d-ddda6bf9badd\",\n",
       "            \"creation_timestamp\": \"2023-03-24T21:03:35.497182+00:00\",\n",
       "            \"submitted_by\": \"/users/5e3038c4-baa5-4589-b3d8-ad2fe634e826/\",\n",
       "            \"description\": \"ABclonal Technology\",\n",
       "            \"title\": \"ABclonal\",\n",
       "            \"name\": \"abclonal\",\n",
       "            \"@id\": \"/sources/abclonal/\",\n",
       "            \"@type\": [\n",
       "                [\n",
       "                    \"Source\",\n",
       "                    \"Item\"\n",
       "                ]\n",
       "            ],\n",
       "            \"summary\": \"ABclonal\"\n",
       "        },\n",
       "        {\n",
       "            \"release_timestamp\": \"2023-03-14T00:14:14.620564+00:00\",\n",
       "            \"lab\": \"/labs/jesse-engreitz/\",\n",
       "            \"award\": \"/awards/HG011972/\",\n",
       "            \"status\": \"released\",\n",
       "            \"schema_version\": \"6\",\n",
       "            \"uuid\": \"48a9ccf4-9f3f-4c96-98c8-b390713163ae\",\n",
       "            \"creation_timestamp\": \"2023-03-13T23:29:36.381788+00:00\",\n",
       "            \"submitted_by\": \"/users/05f44ea6-5f00-440c-99e3-6b54f5792028/\",\n",
       "            \"description\": \"Noncoding variant effects/prioritization\",\n",
       "            \"name\": \"abc-max\",\n",
       "            \"title\": \"ABC-Max\",\n",
       "            \"source_url\": \"https://github.com/EngreitzLab/ABC-GWAS-Paper/tree/main/ABC-Max\",\n",
       "            \"@id\": \"/software/abc-max/\",\n",
       "            \"@type\": [\n",
       "                [\n",
       "                    \"Software\",\n",
       "                    \"Item\"\n",
       "                ]\n",
       "            ],\n",
       "            \"summary\": \"ABC-Max\",\n",
       "            \"versions\": [\n",
       "                [\n",
       "\n",
       "                ]\n",
       "            ]\n",
       "        }\n",
       "    ],\n",
       "    \"@id\": \"/search?query=abc&frame=object\",\n",
       "    \"@type\": [\n",
       "        \"Search\"\n",
       "    ],\n",
       "    \"total\": 4.000000,\n",
       "    \"facets\": [\n",
       "        {\n",
       "            \"field\": \"type\",\n",
       "            \"title\": \"Data Type\"\n",
       "        }\n",
       "    ]\n",
       "}\n",
       " "
      ]
     },
     "metadata": {},
     "output_type": "display_data"
    }
   ],
   "source": [
    "results"
   ]
  },
  {
   "cell_type": "code",
   "execution_count": 5,
   "id": "5b60c998-4e94-4df5-a6e1-cd507264fe73",
   "metadata": {},
   "outputs": [
    {
     "data": {
      "text/html": [
       "4"
      ],
      "text/latex": [
       "4"
      ],
      "text/markdown": [
       "4"
      ],
      "text/plain": [
       "[1] 4"
      ]
     },
     "metadata": {},
     "output_type": "display_data"
    }
   ],
   "source": [
    "results$total"
   ]
  },
  {
   "cell_type": "code",
   "execution_count": 6,
   "id": "9df3cd82-cabe-449b-b614-c9a3db36bcb9",
   "metadata": {},
   "outputs": [
    {
     "data": {
      "text/html": [
       "'/search?query=abc&amp;frame=object'"
      ],
      "text/latex": [
       "'/search?query=abc\\&frame=object'"
      ],
      "text/markdown": [
       "'/search?query=abc&amp;frame=object'"
      ],
      "text/plain": [
       "[1] \"/search?query=abc&frame=object\""
      ]
     },
     "metadata": {},
     "output_type": "display_data"
    }
   ],
   "source": [
    "results$`@id`"
   ]
  },
  {
   "cell_type": "code",
   "execution_count": 7,
   "id": "2771bc2f-5eab-456b-91ad-a6e2ad203820",
   "metadata": {},
   "outputs": [
    {
     "data": {
      "text/plain": [
       "[[1]]\n",
       "{\n",
       "    \"release_timestamp\": \"2023-03-14T00:12:36.014029+00:00\",\n",
       "    \"lab\": \"/labs/jesse-engreitz/\",\n",
       "    \"award\": \"/awards/HG011972/\",\n",
       "    \"status\": \"released\",\n",
       "    \"schema_version\": \"6\",\n",
       "    \"uuid\": \"f37503db-d59c-455d-99f0-7065c9afadfb\",\n",
       "    \"creation_timestamp\": \"2023-03-13T23:29:35.927480+00:00\",\n",
       "    \"submitted_by\": \"/users/05f44ea6-5f00-440c-99e3-6b54f5792028/\",\n",
       "    \"description\": \"Target gene prediction (element)\",\n",
       "    \"name\": \"abc\",\n",
       "    \"title\": \"ABC\",\n",
       "    \"source_url\": \"https://github.com/broadinstitute/ABC-Enhancer-Gene-Prediction\",\n",
       "    \"@id\": \"/software/abc/\",\n",
       "    \"@type\": [\n",
       "        \"Software\",\n",
       "        \"Item\"\n",
       "    ],\n",
       "    \"summary\": \"ABC\",\n",
       "    \"versions\": [\n",
       "        \"\"\n",
       "    ]\n",
       "}\n",
       " \n",
       "\n",
       "[[2]]\n",
       "{\n",
       "    \"release_timestamp\": \"2023-03-24T21:03:35.057521+00:00\",\n",
       "    \"status\": \"released\",\n",
       "    \"url\": \"http://www.abcam.com\",\n",
       "    \"schema_version\": \"4\",\n",
       "    \"uuid\": \"b10f3c4b-d525-4e86-b1f6-a169e1ec5774\",\n",
       "    \"creation_timestamp\": \"2023-03-24T21:03:35.060832+00:00\",\n",
       "    \"submitted_by\": \"/users/5e3038c4-baa5-4589-b3d8-ad2fe634e826/\",\n",
       "    \"description\": \"Abcam\",\n",
       "    \"title\": \"Abcam\",\n",
       "    \"name\": \"abcam\",\n",
       "    \"@id\": \"/sources/abcam/\",\n",
       "    \"@type\": [\n",
       "        \"Source\",\n",
       "        \"Item\"\n",
       "    ],\n",
       "    \"summary\": \"Abcam\"\n",
       "}\n",
       " \n",
       "\n",
       "[[3]]\n",
       "{\n",
       "    \"release_timestamp\": \"2023-03-24T21:03:35.493152+00:00\",\n",
       "    \"status\": \"released\",\n",
       "    \"url\": \"http://www.abclonal.com/\",\n",
       "    \"schema_version\": \"4\",\n",
       "    \"uuid\": \"3ff58555-6c26-483c-930d-ddda6bf9badd\",\n",
       "    \"creation_timestamp\": \"2023-03-24T21:03:35.497182+00:00\",\n",
       "    \"submitted_by\": \"/users/5e3038c4-baa5-4589-b3d8-ad2fe634e826/\",\n",
       "    \"description\": \"ABclonal Technology\",\n",
       "    \"title\": \"ABclonal\",\n",
       "    \"name\": \"abclonal\",\n",
       "    \"@id\": \"/sources/abclonal/\",\n",
       "    \"@type\": [\n",
       "        \"Source\",\n",
       "        \"Item\"\n",
       "    ],\n",
       "    \"summary\": \"ABclonal\"\n",
       "}\n",
       " \n",
       "\n",
       "[[4]]\n",
       "{\n",
       "    \"release_timestamp\": \"2023-03-14T00:14:14.620564+00:00\",\n",
       "    \"lab\": \"/labs/jesse-engreitz/\",\n",
       "    \"award\": \"/awards/HG011972/\",\n",
       "    \"status\": \"released\",\n",
       "    \"schema_version\": \"6\",\n",
       "    \"uuid\": \"48a9ccf4-9f3f-4c96-98c8-b390713163ae\",\n",
       "    \"creation_timestamp\": \"2023-03-13T23:29:36.381788+00:00\",\n",
       "    \"submitted_by\": \"/users/05f44ea6-5f00-440c-99e3-6b54f5792028/\",\n",
       "    \"description\": \"Noncoding variant effects/prioritization\",\n",
       "    \"name\": \"abc-max\",\n",
       "    \"title\": \"ABC-Max\",\n",
       "    \"source_url\": \"https://github.com/EngreitzLab/ABC-GWAS-Paper/tree/main/ABC-Max\",\n",
       "    \"@id\": \"/software/abc-max/\",\n",
       "    \"@type\": [\n",
       "        \"Software\",\n",
       "        \"Item\"\n",
       "    ],\n",
       "    \"summary\": \"ABC-Max\",\n",
       "    \"versions\": [\n",
       "        \"\"\n",
       "    ]\n",
       "}\n",
       " \n"
      ]
     },
     "metadata": {},
     "output_type": "display_data"
    }
   ],
   "source": [
    "results$`@graph`"
   ]
  },
  {
   "cell_type": "code",
   "execution_count": 8,
   "id": "49daa1ba-9e31-458b-861f-4f1b9e5f22aa",
   "metadata": {},
   "outputs": [],
   "source": [
    "lab <- api$GetById(results$`@graph`[[1]]$actual_instance$lab, frame=\"object\")$actual_instance"
   ]
  },
  {
   "cell_type": "code",
   "execution_count": 9,
   "id": "63acecb6-cac7-4b82-a28a-f57f949d4360",
   "metadata": {},
   "outputs": [
    {
     "data": {
      "text/plain": [
       "{\n",
       "    \"status\": \"current\",\n",
       "    \"url\": \"https://www.engreitzlab.org/\",\n",
       "    \"schema_version\": \"3\",\n",
       "    \"uuid\": \"083882e6-c0fb-4cee-ae94-c1138a2195e7\",\n",
       "    \"creation_timestamp\": \"2023-01-27T01:25:29.847716+00:00\",\n",
       "    \"submitted_by\": \"/users/1e75d989-a438-4d77-a451-8a297fd3636e/\",\n",
       "    \"name\": \"jesse-engreitz\",\n",
       "    \"pi\": \"/users/6c75dbfa-635e-4a7a-8ec8-9e51e9c380a4/\",\n",
       "    \"awards\": [\n",
       "        \"/awards/HG011972/\"\n",
       "    ],\n",
       "    \"institute_label\": \"Stanford\",\n",
       "    \"@id\": \"/labs/jesse-engreitz/\",\n",
       "    \"@type\": [\n",
       "        \"Lab\",\n",
       "        \"Item\"\n",
       "    ],\n",
       "    \"summary\": \"Jesse Engreitz, Stanford\",\n",
       "    \"title\": \"Jesse Engreitz, Stanford\"\n",
       "}\n",
       " "
      ]
     },
     "metadata": {},
     "output_type": "display_data"
    }
   ],
   "source": [
    "lab"
   ]
  },
  {
   "cell_type": "code",
   "execution_count": 10,
   "id": "e979fe6d-6be5-4478-8586-6329c33f8036",
   "metadata": {},
   "outputs": [
    {
     "data": {
      "text/html": [
       "'/users/6c75dbfa-635e-4a7a-8ec8-9e51e9c380a4/'"
      ],
      "text/latex": [
       "'/users/6c75dbfa-635e-4a7a-8ec8-9e51e9c380a4/'"
      ],
      "text/markdown": [
       "'/users/6c75dbfa-635e-4a7a-8ec8-9e51e9c380a4/'"
      ],
      "text/plain": [
       "[1] \"/users/6c75dbfa-635e-4a7a-8ec8-9e51e9c380a4/\""
      ]
     },
     "metadata": {},
     "output_type": "display_data"
    }
   ],
   "source": [
    "lab$pi"
   ]
  },
  {
   "cell_type": "code",
   "execution_count": 11,
   "id": "489b3f16-e890-46f3-8f1c-8b330943efee",
   "metadata": {},
   "outputs": [],
   "source": [
    "users_from_lab <- api$Users(lab=lab$`@id`, frame=\"object\")"
   ]
  },
  {
   "cell_type": "code",
   "execution_count": 12,
   "id": "f71ab086-df13-4202-971b-462dd762b387",
   "metadata": {},
   "outputs": [
    {
     "data": {
      "text/html": [
       "9"
      ],
      "text/latex": [
       "9"
      ],
      "text/markdown": [
       "9"
      ],
      "text/plain": [
       "[1] 9"
      ]
     },
     "metadata": {},
     "output_type": "display_data"
    }
   ],
   "source": [
    "users_from_lab$total"
   ]
  },
  {
   "cell_type": "code",
   "execution_count": 13,
   "id": "245cb691-97a5-408b-ad56-b5820efe4bdb",
   "metadata": {},
   "outputs": [
    {
     "data": {
      "text/html": [
       "'/labs/jesse-engreitz/'"
      ],
      "text/latex": [
       "'/labs/jesse-engreitz/'"
      ],
      "text/markdown": [
       "'/labs/jesse-engreitz/'"
      ],
      "text/plain": [
       "[1] \"/labs/jesse-engreitz/\""
      ]
     },
     "metadata": {},
     "output_type": "display_data"
    }
   ],
   "source": [
    "users_from_lab$`@graph`[[1]]$lab"
   ]
  },
  {
   "cell_type": "code",
   "execution_count": null,
   "id": "bccb4ccf-b0c4-48ae-b9e5-8db6f4f43dcb",
   "metadata": {},
   "outputs": [],
   "source": []
  }
 ],
 "metadata": {
  "kernelspec": {
   "display_name": "R",
   "language": "R",
   "name": "ir"
  },
  "language_info": {
   "codemirror_mode": "r",
   "file_extension": ".r",
   "mimetype": "text/x-r-source",
   "name": "R",
   "pygments_lexer": "r",
   "version": "4.4.1"
  }
 },
 "nbformat": 4,
 "nbformat_minor": 5
}
